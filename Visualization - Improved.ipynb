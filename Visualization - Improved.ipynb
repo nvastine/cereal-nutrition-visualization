{
 "cells": [
  {
   "cell_type": "code",
   "execution_count": 1,
   "id": "596efaba-94a1-4c7e-9a34-38d35402d287",
   "metadata": {},
   "outputs": [],
   "source": [
    "import pandas as pd\n",
    "import altair as alt\n",
    "\n",
    "data = pd.read_csv(\"cereal.csv\")"
   ]
  },
  {
   "cell_type": "code",
   "execution_count": 35,
   "id": "b77e04f6-e46f-48d9-bb8e-8ca8fbadf0b6",
   "metadata": {},
   "outputs": [],
   "source": [
    "brush = alt.selection_interval(resolve='global')\n",
    "single = alt.selection_point(on='mouseover', nearest=True)\n",
    "\n",
    "concat_plot = alt.Chart(data).mark_circle().encode(\n",
    "    alt.Y('calories',scale=alt.Scale(domain=[0, 175])).title('Calories per serving'),\n",
    "    size = alt.Size('cups', scale=alt.Scale(range=(0,200)),legend = alt.Legend(title=\"Cups per Serving\",orient='bottom')),\n",
    "    tooltip = ['name','calories','sugars','carbo','protein','fat', 'cups'],\n",
    "    color = alt.condition(brush, 'child', alt.ColorValue('gray'),legend = alt.Legend(title=\"Target Demographic\",orient='bottom')),\n",
    "    opacity = alt.condition(brush, alt.value(0.75), alt.value(0.1))\n",
    ").properties(\n",
    "    height=200,\n",
    "    width=200\n",
    ")\n",
    "\n",
    "detail = alt.Chart(data, title=alt.TitleParams('Interactive Cereal Evaluation Plot - Select Cereals from Below Plots', anchor='middle')).mark_bar().encode(\n",
    "    x = alt.X('name',axis=alt.Axis(labelAngle=-45,),title=\"Name\"),\n",
    "    y = alt.Y('calories',title=\"Calories\",scale=alt.Scale(domain=[0, 175])),\n",
    "    color='child',\n",
    "    tooltip = ['name','calories','sugars','carbo','protein','fat', 'cups'],\n",
    "    opacity = alt.condition(brush, alt.value(0.75), alt.value(0.1))\n",
    "# ).add_params( # Altair is smart enough to not let you select and filter the same plot\n",
    "#     brush    \n",
    "# ).transform_filter(brush\n",
    ").properties(\n",
    "    height=200,\n",
    "    width=1000)\n",
    "\n",
    "small_multiples = alt.hconcat(concat_plot.encode(x=alt.X('sugars', scale=alt.Scale(domain=[-1,16])).title('Sugar per Serving (g)')),\n",
    "                              concat_plot.encode(x=alt.X('carbo', scale=alt.Scale(domain=[-1,25])).title('Carbs per Serving (g)')),\n",
    "                              concat_plot.encode(x=alt.X('fat', scale=alt.Scale(domain=[-1,6])).title('Fat per Serving (g)')),\n",
    "                              concat_plot.encode(x=alt.X('protein',scale=alt.Scale(domain=[-1,7])).title('Protein per Serving (g)')) \n",
    "                             )\n",
    "\n",
    "final =  alt.vconcat(detail,small_multiples).add_params(brush)\n",
    "\n",
    "final.save('improved.html')\n"
   ]
  }
 ],
 "metadata": {
  "kernelspec": {
   "display_name": "Python 3 (ipykernel)",
   "language": "python",
   "name": "python3"
  },
  "language_info": {
   "codemirror_mode": {
    "name": "ipython",
    "version": 3
   },
   "file_extension": ".py",
   "mimetype": "text/x-python",
   "name": "python",
   "nbconvert_exporter": "python",
   "pygments_lexer": "ipython3",
   "version": "3.10.16"
  }
 },
 "nbformat": 4,
 "nbformat_minor": 5
}
